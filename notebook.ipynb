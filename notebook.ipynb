{
 "metadata": {
  "kernelspec": {
   "language": "python",
   "display_name": "Python 3",
   "name": "python3"
  },
  "language_info": {
   "name": "python",
   "version": "3.7.12",
   "mimetype": "text/x-python",
   "codemirror_mode": {
    "name": "ipython",
    "version": 3
   },
   "pygments_lexer": "ipython3",
   "nbconvert_exporter": "python",
   "file_extension": ".py"
  }
 },
 "nbformat_minor": 4,
 "nbformat": 4,
 "cells": [
  {
   "cell_type": "code",
   "source": [
    "## imports\n",
    "import os\n",
    "print(os.getcwd())\n",
    "\n",
    "!pip3 install datasets"
   ],
   "metadata": {
    "id": "jR32WRviVjcT",
    "trusted": true
   },
   "execution_count": null,
   "outputs": []
  },
  {
   "cell_type": "code",
   "source": [
    "!git clone https://github.com/Dada-Tech/detect-gpt.git"
   ],
   "metadata": {
    "id": "9PAF3NCrG0b7",
    "execution": {
     "iopub.status.busy": "2023-04-08T05:50:08.236799Z",
     "iopub.execute_input": "2023-04-08T05:50:08.237235Z",
     "iopub.status.idle": "2023-04-08T05:50:09.196289Z",
     "shell.execute_reply.started": "2023-04-08T05:50:08.237194Z",
     "shell.execute_reply": "2023-04-08T05:50:09.194886Z"
    },
    "trusted": true,
    "pycharm": {
     "is_executing": true
    }
   },
   "execution_count": null,
   "outputs": []
  },
  {
   "cell_type": "code",
   "source": [
    "## directories\n",
    "working_dir = '/detect-gpt'\n",
    "base_dir = '/kaggle/working'\n",
    "\n",
    "if os.getcwd() == base_dir:\n",
    "  os.chdir(base_dir + working_dir)\n",
    "\n",
    "print(os.getcwd())"
   ],
   "metadata": {
    "id": "eJR3ywcDVkXw",
    "outputId": "29197b68-af64-4c8c-edf4-cd63c14dc11f",
    "execution": {
     "iopub.status.busy": "2023-04-08T17:38:26.741280Z",
     "iopub.execute_input": "2023-04-08T17:38:26.741709Z",
     "iopub.status.idle": "2023-04-08T17:38:26.749885Z",
     "shell.execute_reply.started": "2023-04-08T17:38:26.741659Z",
     "shell.execute_reply": "2023-04-08T17:38:26.748627Z"
    },
    "trusted": true
   },
   "execution_count": 4,
   "outputs": [
    {
     "name": "stdout",
     "text": "/kaggle/working/detect-gpt\n",
     "output_type": "stream"
    }
   ]
  },
  {
   "cell_type": "code",
   "source": [
    "## directory Operations\n",
    "\n",
    "## download\n",
    "!tar -czf detect-gpt-output.tar.gz /kaggle/working/detect-gpt/results"
   ],
   "metadata": {
    "id": "S3BtQlZCupxU",
    "execution": {
     "iopub.status.busy": "2023-04-08T17:38:29.567245Z",
     "iopub.execute_input": "2023-04-08T17:38:29.567618Z",
     "iopub.status.idle": "2023-04-08T17:38:35.690788Z",
     "shell.execute_reply.started": "2023-04-08T17:38:29.567586Z",
     "shell.execute_reply": "2023-04-08T17:38:35.689456Z"
    },
    "trusted": true,
    "pycharm": {
     "is_executing": true
    }
   },
   "execution_count": null,
   "outputs": []
  },
  {
   "cell_type": "code",
   "source": [
    "## requirements\n",
    "\n",
    "!pip3 install -r requirements.txt"
   ],
   "metadata": {
    "id": "wO6pzxhVXGs5",
    "trusted": true
   },
   "execution_count": null,
   "outputs": []
  },
  {
   "cell_type": "code",
   "source": [
    "# check if GPU enabled\n",
    "\n",
    "# should NOT return blank\n",
    "!echo $CUDA_HOME\n",
    "\n",
    "# nvidia info\n",
    "!nvidia-smi\n",
    "\n",
    "# python version\n",
    "!python --version"
   ],
   "metadata": {
    "execution": {
     "iopub.status.busy": "2023-04-08T17:37:51.171696Z",
     "iopub.execute_input": "2023-04-08T17:37:51.172473Z",
     "iopub.status.idle": "2023-04-08T17:37:53.050803Z",
     "shell.execute_reply.started": "2023-04-08T17:37:51.172432Z",
     "shell.execute_reply": "2023-04-08T17:37:53.049367Z"
    },
    "trusted": true
   },
   "execution_count": 2,
   "outputs": [
    {
     "name": "stdout",
     "text": "\nPython 3.7.12\n",
     "output_type": "stream"
    }
   ]
  },
  {
   "cell_type": "code",
   "source": [
    "## pytorch reinstall if CUDA errors\n",
    "# !pip uninstall torch --yes\n",
    "# !pip uninstall torchvision --yes\n",
    "\n",
    "## install with CUDA\n",
    "# !pip install --pre torch torchvision torchaudio --index-url https://download.pytorch.org/whl/nightly/cu118"
   ],
   "metadata": {
    "id": "-jib2hBSp7tU",
    "trusted": true
   },
   "execution_count": null,
   "outputs": []
  },
  {
   "cell_type": "code",
   "source": [
    "## python 3.8 or higher\n",
    "!python --version\n",
    "\n",
    "# upgrade to 3.8+\n",
    "!conda create -n py39 python=3.9 anaconda --yes\n",
    "!source /opt/conda/bin/activate py39 && conda install -c py39 python -y\n",
    "\n",
    "!sudo rm /opt/conda/bin/python3\n",
    "!sudo ln -sf /opt/conda/envs/py39/bin/python3 /opt/conda/bin/python3\n",
    "\n",
    "!sudo rm /opt/conda/bin/python3.7\n",
    "!sudo ln -sf /opt/conda/envs/py39/bin/python3 /opt/conda/bin/python3.7\n",
    "\n",
    "!sudo rm /opt/conda/bin/python\n",
    "!sudo ln -s /opt/conda/envs/py39/bin/python3 /opt/conda/bin/python\n",
    "!python --version"
   ],
   "metadata": {
    "trusted": true
   },
   "execution_count": null,
   "outputs": []
  },
  {
   "cell_type": "code",
   "source": [
    "## fix \"permission denied\" issue\n",
    "!chmod +x ./paper_scripts/one.sh"
   ],
   "metadata": {
    "id": "Yq6I7NV_WuZ_",
    "_kg_hide-output": true,
    "trusted": true
   },
   "execution_count": null,
   "outputs": []
  },
  {
   "cell_type": "code",
   "execution_count": null,
   "outputs": [],
   "source": [
    "## running the experiment\n",
    "\n",
    "## run one experiment\n",
    "# 5,6,11,12,17,18 all use t5-3b which maxes out Kaggle\n",
    "!./paper_scripts/one.sh 13\n",
    "\n",
    "## manual run for a custom experiment\n",
    "!python run.py --batch_size 5 --n_samples 100 --n_perturbation_list 1,3 --base_model_name gpt2 --mask_filling_model_name t5-small --dataset reviews --cache_dir models"
   ],
   "metadata": {
    "collapsed": false
   }
  }
 ]
}
