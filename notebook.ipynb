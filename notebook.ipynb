{
 "metadata": {
  "kernelspec": {
   "language": "python",
   "display_name": "Python 3",
   "name": "python3"
  },
  "language_info": {
   "pygments_lexer": "ipython3",
   "nbconvert_exporter": "python",
   "version": "3.6.4",
   "file_extension": ".py",
   "codemirror_mode": {
    "name": "ipython",
    "version": 3
   },
   "name": "python",
   "mimetype": "text/x-python"
  }
 },
 "nbformat_minor": 4,
 "nbformat": 4,
 "cells": [
  {
   "cell_type": "markdown",
   "source": [
    "<a href=\"https://colab.research.google.com/github/Dada-Tech/detect-gpt/blob/master/detect_gpt_david_dada.ipynb\" target=\"_parent\"><img src=\"https://colab.research.google.com/assets/colab-badge.svg\" alt=\"Open In Colab\"/></a>"
   ],
   "metadata": {
    "id": "view-in-github"
   }
  },
  {
   "cell_type": "code",
   "source": [
    "## imports\n",
    "import os\n",
    "print(os.getcwd())\n",
    "\n",
    "!pip install datasets"
   ],
   "metadata": {
    "id": "jR32WRviVjcT",
    "execution": {
     "iopub.status.idle": "2023-03-31T04:53:09.347143Z",
     "shell.execute_reply.started": "2023-03-31T04:52:57.890091Z",
     "shell.execute_reply": "2023-03-31T04:53:09.345796Z"
    },
    "trusted": true
   },
   "execution_count": null,
   "outputs": []
  },
  {
   "cell_type": "code",
   "source": [
    "!git clone https://github.com/Dada-Tech/detect-gpt.git\n",
    "# !git pull\n",
    "\n",
    "# https://github.com/Dada-Tech/detect-gpt.git\n",
    "# https://github.com/eric-mitchell/detect-gpt"
   ],
   "metadata": {
    "id": "9PAF3NCrG0b7",
    "execution": {
     "iopub.status.busy": "2023-03-31T05:08:32.161357Z",
     "iopub.execute_input": "2023-03-31T05:08:32.162543Z",
     "iopub.status.idle": "2023-03-31T05:08:33.908089Z",
     "shell.execute_reply.started": "2023-03-31T05:08:32.162486Z",
     "shell.execute_reply": "2023-03-31T05:08:33.906869Z"
    },
    "trusted": true
   },
   "execution_count": null,
   "outputs": []
  },
  {
   "cell_type": "code",
   "source": [
    "## directories\n",
    "working_dir = '/detect-gpt'\n",
    "# base_dir = '/content'\n",
    "base_dir = '/kaggle/working'\n",
    "\n",
    "if os.getcwd() == base_dir:\n",
    "  os.chdir(base_dir + working_dir)\n",
    "\n",
    "print(os.getcwd())\n",
    "\n",
    "## Colab: drive mounts\n",
    "# from google.colab import drive\n",
    "# drive.mount('/content/drive')"
   ],
   "metadata": {
    "id": "eJR3ywcDVkXw",
    "outputId": "29197b68-af64-4c8c-edf4-cd63c14dc11f",
    "execution": {
     "iopub.status.busy": "2023-03-31T04:44:53.959029Z",
     "iopub.execute_input": "2023-03-31T04:44:53.959460Z",
     "iopub.status.idle": "2023-03-31T04:44:53.971917Z",
     "shell.execute_reply.started": "2023-03-31T04:44:53.959423Z",
     "shell.execute_reply": "2023-03-31T04:44:53.970788Z"
    },
    "trusted": true
   },
   "execution_count": null,
   "outputs": []
  },
  {
   "cell_type": "code",
   "source": [
    "## direcotry Operations\n",
    "\n",
    "\n",
    "## deletion\n",
    "# import shutil\n",
    "# shutil.rmtree('/content/detect-gpt', ignore_errors=True)\n",
    "\n",
    "## download\n",
    "!tar -czf detect-gpt-output.tar.gz /kaggle/working/detect-gpt\n",
    "\n",
    "from IPython.display import FileLink\n",
    "FileLink(r'detect-gpt-output.tar.gz')"
   ],
   "metadata": {
    "id": "S3BtQlZCupxU",
    "execution": {
     "iopub.status.busy": "2023-03-31T05:30:21.620547Z",
     "iopub.execute_input": "2023-03-31T05:30:21.620949Z",
     "iopub.status.idle": "2023-03-31T05:33:19.836352Z",
     "shell.execute_reply.started": "2023-03-31T05:30:21.620909Z",
     "shell.execute_reply": "2023-03-31T05:33:19.835169Z"
    },
    "trusted": true
   },
   "execution_count": null,
   "outputs": []
  },
  {
   "cell_type": "code",
   "source": [
    "## requirements\n",
    "\n",
    "!pip install -r requirements.txt"
   ],
   "metadata": {
    "id": "wO6pzxhVXGs5",
    "trusted": true
   },
   "execution_count": null,
   "outputs": []
  },
  {
   "cell_type": "code",
   "source": [
    "# check if GPU enabled\n",
    "\n",
    "# should NOT return blank\n",
    "!echo $CUDA_HOME\n",
    "\n",
    "\n",
    "# nvidia info\n",
    "# !nvidia-smi\n",
    "\n",
    "\n",
    "## pytorch reinstall if CUDA errors\n",
    "!pip uninstall torch --yes\n",
    "!pip uninstall torchvision --yes\n",
    "\n",
    "## install with CUDA\n",
    "!pip3 install torch torchvision torchaudio --index-url https://download.pytorch.org/whl/cu118"
   ],
   "metadata": {
    "id": "-jib2hBSp7tU",
    "trusted": true
   },
   "execution_count": null,
   "outputs": []
  },
  {
   "cell_type": "code",
   "source": [
    "## python 3.8 or higher\n",
    "!python --version\n",
    "\n",
    "## upgrade to 3.8+\n",
    "# !conda create -n py39 python=3.9 anaconda --yes\n",
    "# !source /opt/conda/bin/activate py39 && conda install -c py39 python -y\n",
    "\n",
    "# !sudo rm /opt/conda/bin/python3\n",
    "# !sudo ln -sf /opt/conda/envs/py39/bin/python3 /opt/conda/bin/python3\n",
    "\n",
    "# !sudo rm /opt/conda/bin/python3.7\n",
    "# !sudo ln -sf /opt/conda/envs/py39/bin/python3 /opt/conda/bin/python3.7\n",
    "\n",
    "# !sudo rm /opt/conda/bin/python\n",
    "# !sudo ln -s /opt/conda/envs/py39/bin/python3 /opt/conda/bin/python\n",
    "# !python --version"
   ],
   "metadata": {
    "execution": {
     "iopub.status.busy": "2023-03-31T04:57:11.366857Z",
     "iopub.execute_input": "2023-03-31T04:57:11.368214Z",
     "iopub.status.idle": "2023-03-31T04:57:13.338659Z",
     "shell.execute_reply.started": "2023-03-31T04:57:11.368133Z",
     "shell.execute_reply": "2023-03-31T04:57:13.337249Z"
    },
    "trusted": true
   },
   "execution_count": null,
   "outputs": []
  },
  {
   "cell_type": "code",
   "source": [
    "## script run (main.sh)\n",
    "\n",
    "!./paper_scripts/main.sh"
   ],
   "metadata": {
    "id": "Yq6I7NV_WuZ_",
    "trusted": true
   },
   "execution_count": null,
   "outputs": []
  },
  {
   "cell_type": "code",
   "source": [
    "## manual run\n",
    "!python run.py --batch_size 5 --n_samples 100 --n_perturbation_list 1,3 --base_model_name gpt2 --mask_filling_model_name t5-small --dataset reviews --cache_dir models\n",
    "# !python run.py --batch_size 5 --n_samples 100 --n_perturbation_list 1,3 --dataset reviews --cache_dir code"
   ],
   "metadata": {
    "id": "Nzoj4_ZNXsrD",
    "outputId": "7a30ba72-62ce-4f62-a0b0-e028f54a152c",
    "execution": {
     "iopub.status.busy": "2023-03-31T05:08:42.113996Z",
     "iopub.execute_input": "2023-03-31T05:08:42.114399Z",
     "iopub.status.idle": "2023-03-31T05:12:08.784776Z",
     "shell.execute_reply.started": "2023-03-31T05:08:42.114360Z",
     "shell.execute_reply": "2023-03-31T05:12:08.783360Z"
    },
    "trusted": true
   },
   "execution_count": null,
   "outputs": []
  }
 ]
}
